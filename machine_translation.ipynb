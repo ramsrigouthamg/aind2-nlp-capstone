{
 "cells": [
  {
   "cell_type": "markdown",
   "metadata": {
    "collapsed": true
   },
   "source": [
    "# Artificial Intelligence Nanodegree\n",
    "## Machine Translation Project\n",
    "In this notebook, sections that end with **'(IMPLEMENTATION)'** in the header indicate that the following blocks of code will require additional functionality which you must provide. Please be sure to read the instructions carefully!\n",
    "\n",
    "## Introduction\n",
    "In this notebook, you will build a deep neural network that functions as part of an end-to-end machine translation pipeline. Your completed pipeline will accept English text as input and return the French translation.\n",
    "\n",
    "- **Preprocess** - You'll convert text to sequence of integers.\n",
    "- **Models** Create models which accepts a sequence of integers as input and returns a probability distribution over possible translations. After learning about the basic types of neural networks that are often used for machine translation, you will engage in your own investigations, to design your own model!\n",
    "- **Prediction** Run the model on English text."
   ]
  },
  {
   "cell_type": "code",
   "execution_count": 1,
   "metadata": {},
   "outputs": [],
   "source": [
    "%load_ext autoreload\n",
    "%aimport helper, tests\n",
    "%autoreload 1"
   ]
  },
  {
   "cell_type": "code",
   "execution_count": 2,
   "metadata": {},
   "outputs": [
    {
     "name": "stderr",
     "output_type": "stream",
     "text": [
      "Using TensorFlow backend.\n"
     ]
    }
   ],
   "source": [
    "import collections\n",
    "\n",
    "import helper\n",
    "import numpy as np\n",
    "import project_tests as tests\n",
    "\n",
    "from keras.preprocessing.text import Tokenizer\n",
    "from keras.preprocessing.sequence import pad_sequences\n",
    "from keras.models import Model\n",
    "from keras.layers import GRU, Input, Dense, TimeDistributed, Activation, RepeatVector, Bidirectional\n",
    "from keras.layers.embeddings import Embedding\n",
    "from keras.optimizers import Adam\n",
    "from keras.losses import sparse_categorical_crossentropy"
   ]
  },
  {
   "cell_type": "markdown",
   "metadata": {},
   "source": [
    "### Verify access to the GPU\n",
    "The following test applies only if you expect to be using a GPU, e.g., while running in a Udacity Workspace or using an AWS instance with GPU support. Run the next cell, and verify that the device_type is \"GPU\".\n",
    "- If the device is not GPU & you are running from a Udacity Workspace, then save your workspace with the icon at the top, then click \"enable\" at the bottom of the workspace.\n",
    "- If the device is not GPU & you are running from an AWS instance, then refer to the cloud computing instructions in the classroom to verify your setup steps."
   ]
  },
  {
   "cell_type": "code",
   "execution_count": 3,
   "metadata": {},
   "outputs": [
    {
     "name": "stdout",
     "output_type": "stream",
     "text": [
      "[name: \"/cpu:0\"\n",
      "device_type: \"CPU\"\n",
      "memory_limit: 268435456\n",
      "locality {\n",
      "}\n",
      "incarnation: 6692780393856523890\n",
      ", name: \"/gpu:0\"\n",
      "device_type: \"GPU\"\n",
      "memory_limit: 357302272\n",
      "locality {\n",
      "  bus_id: 1\n",
      "}\n",
      "incarnation: 17925566716519713500\n",
      "physical_device_desc: \"device: 0, name: Tesla K80, pci bus id: 0000:00:04.0\"\n",
      "]\n"
     ]
    }
   ],
   "source": [
    "from tensorflow.python.client import device_lib\n",
    "print(device_lib.list_local_devices())"
   ]
  },
  {
   "cell_type": "markdown",
   "metadata": {},
   "source": [
    "## Dataset\n",
    "We begin by investigating the dataset that will be used to train and evaluate your pipeline.  The most common datasets used for machine translation are from [WMT](http://www.statmt.org/).  However, that will take a long time to train a neural network on.  We'll be using a dataset we created for this project that contains a small vocabulary.  You'll be able to train your model in a reasonable time with this dataset.\n",
    "### Load Data\n",
    "The data is located in `data/small_vocab_en` and `data/small_vocab_fr`. The `small_vocab_en` file contains English sentences with their French translations in the `small_vocab_fr` file. Load the English and French data from these files from running the cell below."
   ]
  },
  {
   "cell_type": "code",
   "execution_count": 4,
   "metadata": {},
   "outputs": [
    {
     "name": "stdout",
     "output_type": "stream",
     "text": [
      "Dataset Loaded\n"
     ]
    }
   ],
   "source": [
    "# Load English data\n",
    "english_sentences = helper.load_data('data/small_vocab_en')\n",
    "# Load French data\n",
    "french_sentences = helper.load_data('data/small_vocab_fr')\n",
    "\n",
    "print('Dataset Loaded')"
   ]
  },
  {
   "cell_type": "markdown",
   "metadata": {},
   "source": [
    "### Files\n",
    "Each line in `small_vocab_en` contains an English sentence with the respective translation in each line of `small_vocab_fr`.  View the first two lines from each file."
   ]
  },
  {
   "cell_type": "code",
   "execution_count": 5,
   "metadata": {},
   "outputs": [
    {
     "name": "stdout",
     "output_type": "stream",
     "text": [
      "small_vocab_en Line 1:  new jersey is sometimes quiet during autumn , and it is snowy in april .\n",
      "small_vocab_fr Line 1:  new jersey est parfois calme pendant l' automne , et il est neigeux en avril .\n",
      "small_vocab_en Line 2:  the united states is usually chilly during july , and it is usually freezing in november .\n",
      "small_vocab_fr Line 2:  les états-unis est généralement froid en juillet , et il gèle habituellement en novembre .\n"
     ]
    }
   ],
   "source": [
    "for sample_i in range(2):\n",
    "    print('small_vocab_en Line {}:  {}'.format(sample_i + 1, english_sentences[sample_i]))\n",
    "    print('small_vocab_fr Line {}:  {}'.format(sample_i + 1, french_sentences[sample_i]))"
   ]
  },
  {
   "cell_type": "markdown",
   "metadata": {},
   "source": [
    "From looking at the sentences, you can see they have been preprocessed already.  The puncuations have been delimited using spaces. All the text have been converted to lowercase.  This should save you some time, but the text requires more preprocessing.\n",
    "### Vocabulary\n",
    "The complexity of the problem is determined by the complexity of the vocabulary.  A more complex vocabulary is a more complex problem.  Let's look at the complexity of the dataset we'll be working with."
   ]
  },
  {
   "cell_type": "code",
   "execution_count": 6,
   "metadata": {},
   "outputs": [
    {
     "name": "stdout",
     "output_type": "stream",
     "text": [
      "1823250 English words.\n",
      "227 unique English words.\n",
      "10 Most common words in the English dataset:\n",
      "\"is\" \",\" \".\" \"in\" \"it\" \"during\" \"the\" \"but\" \"and\" \"sometimes\"\n",
      "\n",
      "1961295 French words.\n",
      "355 unique French words.\n",
      "10 Most common words in the French dataset:\n",
      "\"est\" \".\" \",\" \"en\" \"il\" \"les\" \"mais\" \"et\" \"la\" \"parfois\"\n"
     ]
    }
   ],
   "source": [
    "english_words_counter = collections.Counter([word for sentence in english_sentences for word in sentence.split()])\n",
    "french_words_counter = collections.Counter([word for sentence in french_sentences for word in sentence.split()])\n",
    "\n",
    "print('{} English words.'.format(len([word for sentence in english_sentences for word in sentence.split()])))\n",
    "print('{} unique English words.'.format(len(english_words_counter)))\n",
    "print('10 Most common words in the English dataset:')\n",
    "print('\"' + '\" \"'.join(list(zip(*english_words_counter.most_common(10)))[0]) + '\"')\n",
    "print()\n",
    "print('{} French words.'.format(len([word for sentence in french_sentences for word in sentence.split()])))\n",
    "print('{} unique French words.'.format(len(french_words_counter)))\n",
    "print('10 Most common words in the French dataset:')\n",
    "print('\"' + '\" \"'.join(list(zip(*french_words_counter.most_common(10)))[0]) + '\"')"
   ]
  },
  {
   "cell_type": "markdown",
   "metadata": {},
   "source": [
    "For comparison, _Alice's Adventures in Wonderland_ contains 2,766 unique words of a total of 15,500 words.\n",
    "## Preprocess\n",
    "For this project, you won't use text data as input to your model. Instead, you'll convert the text into sequences of integers using the following preprocess methods:\n",
    "1. Tokenize the words into ids\n",
    "2. Add padding to make all the sequences the same length.\n",
    "\n",
    "Time to start preprocessing the data...\n",
    "### Tokenize (IMPLEMENTATION)\n",
    "For a neural network to predict on text data, it first has to be turned into data it can understand. Text data like \"dog\" is a sequence of ASCII character encodings.  Since a neural network is a series of multiplication and addition operations, the input data needs to be number(s).\n",
    "\n",
    "We can turn each character into a number or each word into a number.  These are called character and word ids, respectively.  Character ids are used for character level models that generate text predictions for each character.  A word level model uses word ids that generate text predictions for each word.  Word level models tend to learn better, since they are lower in complexity, so we'll use those.\n",
    "\n",
    "Turn each sentence into a sequence of words ids using Keras's [`Tokenizer`](https://keras.io/preprocessing/text/#tokenizer) function. Use this function to tokenize `english_sentences` and `french_sentences` in the cell below.\n",
    "\n",
    "Running the cell will run `tokenize` on sample data and show output for debugging."
   ]
  },
  {
   "cell_type": "code",
   "execution_count": 7,
   "metadata": {},
   "outputs": [
    {
     "name": "stdout",
     "output_type": "stream",
     "text": [
      "{'the': 1, 'quick': 2, 'a': 3, 'brown': 4, 'fox': 5, 'jumps': 6, 'over': 7, 'lazy': 8, 'dog': 9, 'by': 10, 'jove': 11, 'my': 12, 'study': 13, 'of': 14, 'lexicography': 15, 'won': 16, 'prize': 17, 'this': 18, 'is': 19, 'short': 20, 'sentence': 21}\n",
      "\n",
      "Sequence 1 in x\n",
      "  Input:  The quick brown fox jumps over the lazy dog .\n",
      "  Output: [1, 2, 4, 5, 6, 7, 1, 8, 9]\n",
      "Sequence 2 in x\n",
      "  Input:  By Jove , my quick study of lexicography won a prize .\n",
      "  Output: [10, 11, 12, 2, 13, 14, 15, 16, 3, 17]\n",
      "Sequence 3 in x\n",
      "  Input:  This is a short sentence .\n",
      "  Output: [18, 19, 3, 20, 21]\n"
     ]
    }
   ],
   "source": [
    "def tokenize(x):\n",
    "    \"\"\"\n",
    "    Tokenize x\n",
    "    :param x: List of sentences/strings to be tokenized\n",
    "    :return: Tuple of (tokenized x data, tokenizer used to tokenize x)\n",
    "    \"\"\"\n",
    "    x_tk = Tokenizer()\n",
    "    x_tk.fit_on_texts(x)\n",
    "    # TODO: Implement\n",
    "    return x_tk.texts_to_sequences(x), x_tk\n",
    "tests.test_tokenize(tokenize)\n",
    "\n",
    "# Tokenize Example output\n",
    "text_sentences = [\n",
    "    'The quick brown fox jumps over the lazy dog .',\n",
    "    'By Jove , my quick study of lexicography won a prize .',\n",
    "    'This is a short sentence .']\n",
    "text_tokenized, text_tokenizer = tokenize(text_sentences)\n",
    "print(text_tokenizer.word_index)\n",
    "print()\n",
    "for sample_i, (sent, token_sent) in enumerate(zip(text_sentences, text_tokenized)):\n",
    "    print('Sequence {} in x'.format(sample_i + 1))\n",
    "    print('  Input:  {}'.format(sent))\n",
    "    print('  Output: {}'.format(token_sent))"
   ]
  },
  {
   "cell_type": "markdown",
   "metadata": {},
   "source": [
    "### Padding (IMPLEMENTATION)\n",
    "When batching the sequence of word ids together, each sequence needs to be the same length.  Since sentences are dynamic in length, we can add padding to the end of the sequences to make them the same length.\n",
    "\n",
    "Make sure all the English sequences have the same length and all the French sequences have the same length by adding padding to the **end** of each sequence using Keras's [`pad_sequences`](https://keras.io/preprocessing/sequence/#pad_sequences) function."
   ]
  },
  {
   "cell_type": "code",
   "execution_count": 8,
   "metadata": {},
   "outputs": [
    {
     "name": "stdout",
     "output_type": "stream",
     "text": [
      "Sequence 1 in x\n",
      "  Input:  [1 2 4 5 6 7 1 8 9]\n",
      "  Output: [1 2 4 5 6 7 1 8 9 0]\n",
      "Sequence 2 in x\n",
      "  Input:  [10 11 12  2 13 14 15 16  3 17]\n",
      "  Output: [10 11 12  2 13 14 15 16  3 17]\n",
      "Sequence 3 in x\n",
      "  Input:  [18 19  3 20 21]\n",
      "  Output: [18 19  3 20 21  0  0  0  0  0]\n"
     ]
    }
   ],
   "source": [
    "def pad(x, length=None):\n",
    "    \"\"\"\n",
    "    Pad x\n",
    "    :param x: List of sequences.\n",
    "    :param length: Length to pad the sequence to.  If None, use length of longest sequence in x.\n",
    "    :return: Padded numpy array of sequences\n",
    "    \"\"\"\n",
    "    if length is None:\n",
    "        length = [len(sentence) for sentence in x]\n",
    "        length = max(length)\n",
    "    return pad_sequences(x, maxlen = length, padding = 'post')\n",
    "    \n",
    "\n",
    "tests.test_pad(pad)\n",
    "\n",
    "# Pad Tokenized output\n",
    "test_pad = pad(text_tokenized)\n",
    "for sample_i, (token_sent, pad_sent) in enumerate(zip(text_tokenized, test_pad)):\n",
    "    print('Sequence {} in x'.format(sample_i + 1))\n",
    "    print('  Input:  {}'.format(np.array(token_sent)))\n",
    "    print('  Output: {}'.format(pad_sent))"
   ]
  },
  {
   "cell_type": "markdown",
   "metadata": {},
   "source": [
    "### Preprocess Pipeline\n",
    "Your focus for this project is to build neural network architecture, so we won't ask you to create a preprocess pipeline.  Instead, we've provided you with the implementation of the `preprocess` function."
   ]
  },
  {
   "cell_type": "code",
   "execution_count": 9,
   "metadata": {},
   "outputs": [
    {
     "name": "stdout",
     "output_type": "stream",
     "text": [
      "Data Preprocessed\n",
      "Max English sentence length: 15\n",
      "Max French sentence length: 21\n",
      "English vocabulary size: 199\n",
      "French vocabulary size: 344\n"
     ]
    }
   ],
   "source": [
    "def preprocess(x, y):\n",
    "    \"\"\"\n",
    "    Preprocess x and y\n",
    "    :param x: Feature List of sentences\n",
    "    :param y: Label List of sentences\n",
    "    :return: Tuple of (Preprocessed x, Preprocessed y, x tokenizer, y tokenizer)\n",
    "    \"\"\"\n",
    "    preprocess_x, x_tk = tokenize(x)\n",
    "    preprocess_y, y_tk = tokenize(y)\n",
    "\n",
    "    preprocess_x = pad(preprocess_x)\n",
    "    preprocess_y = pad(preprocess_y)\n",
    "\n",
    "    # Keras's sparse_categorical_crossentropy function requires the labels to be in 3 dimensions\n",
    "    preprocess_y = preprocess_y.reshape(*preprocess_y.shape, 1)\n",
    "\n",
    "    return preprocess_x, preprocess_y, x_tk, y_tk\n",
    "\n",
    "preproc_english_sentences, preproc_french_sentences, english_tokenizer, french_tokenizer =\\\n",
    "    preprocess(english_sentences, french_sentences)\n",
    "    \n",
    "max_english_sequence_length = preproc_english_sentences.shape[1]\n",
    "max_french_sequence_length = preproc_french_sentences.shape[1]\n",
    "english_vocab_size = len(english_tokenizer.word_index)\n",
    "french_vocab_size = len(french_tokenizer.word_index)\n",
    "\n",
    "print('Data Preprocessed')\n",
    "print(\"Max English sentence length:\", max_english_sequence_length)\n",
    "print(\"Max French sentence length:\", max_french_sequence_length)\n",
    "print(\"English vocabulary size:\", english_vocab_size)\n",
    "print(\"French vocabulary size:\", french_vocab_size)"
   ]
  },
  {
   "cell_type": "markdown",
   "metadata": {},
   "source": [
    "## Models\n",
    "In this section, you will experiment with various neural network architectures.\n",
    "You will begin by training four relatively simple architectures.\n",
    "- Model 1 is a simple RNN\n",
    "- Model 2 is a RNN with Embedding\n",
    "- Model 3 is a Bidirectional RNN\n",
    "- Model 4 is an optional Encoder-Decoder RNN\n",
    "\n",
    "After experimenting with the four simple architectures, you will construct a deeper architecture that is designed to outperform all four models.\n",
    "### Ids Back to Text\n",
    "The neural network will be translating the input to words ids, which isn't the final form we want.  We want the French translation.  The function `logits_to_text` will bridge the gab between the logits from the neural network to the French translation.  You'll be using this function to better understand the output of the neural network."
   ]
  },
  {
   "cell_type": "code",
   "execution_count": 10,
   "metadata": {},
   "outputs": [
    {
     "name": "stdout",
     "output_type": "stream",
     "text": [
      "`logits_to_text` function loaded.\n"
     ]
    }
   ],
   "source": [
    "def logits_to_text(logits, tokenizer):\n",
    "    \"\"\"\n",
    "    Turn logits from a neural network into text using the tokenizer\n",
    "    :param logits: Logits from a neural network\n",
    "    :param tokenizer: Keras Tokenizer fit on the labels\n",
    "    :return: String that represents the text of the logits\n",
    "    \"\"\"\n",
    "    index_to_words = {id: word for word, id in tokenizer.word_index.items()}\n",
    "    index_to_words[0] = '<PAD>'\n",
    "\n",
    "    return ' '.join([index_to_words[prediction] for prediction in np.argmax(logits, 1)])\n",
    "\n",
    "print('`logits_to_text` function loaded.')"
   ]
  },
  {
   "cell_type": "markdown",
   "metadata": {},
   "source": [
    "### Model 1: RNN (IMPLEMENTATION)\n",
    "![RNN](images/rnn.png)\n",
    "A basic RNN model is a good baseline for sequence data.  In this model, you'll build a RNN that translates English to French."
   ]
  },
  {
   "cell_type": "code",
   "execution_count": 11,
   "metadata": {},
   "outputs": [
    {
     "name": "stdout",
     "output_type": "stream",
     "text": [
      "Train on 110288 samples, validate on 27573 samples\n",
      "Epoch 1/10\n",
      "110288/110288 [==============================] - 9s 85us/step - loss: 3.4812 - acc: 0.4127 - val_loss: nan - val_acc: 0.4600\n",
      "Epoch 2/10\n",
      "110288/110288 [==============================] - 7s 68us/step - loss: 2.3843 - acc: 0.4771 - val_loss: nan - val_acc: 0.5085\n",
      "Epoch 3/10\n",
      "110288/110288 [==============================] - 7s 67us/step - loss: 2.0757 - acc: 0.5327 - val_loss: nan - val_acc: 0.5545\n",
      "Epoch 4/10\n",
      "110288/110288 [==============================] - 7s 67us/step - loss: 1.8561 - acc: 0.5656 - val_loss: nan - val_acc: 0.5772\n",
      "Epoch 5/10\n",
      "110288/110288 [==============================] - 7s 68us/step - loss: 1.7280 - acc: 0.5796 - val_loss: nan - val_acc: 0.5886\n",
      "Epoch 6/10\n",
      "110288/110288 [==============================] - 7s 68us/step - loss: 1.6498 - acc: 0.5908 - val_loss: nan - val_acc: 0.5953\n",
      "Epoch 7/10\n",
      "110288/110288 [==============================] - 7s 67us/step - loss: 1.5909 - acc: 0.5967 - val_loss: nan - val_acc: 0.5998\n",
      "Epoch 8/10\n",
      "110288/110288 [==============================] - 7s 67us/step - loss: 1.5411 - acc: 0.6030 - val_loss: nan - val_acc: 0.6075\n",
      "Epoch 9/10\n",
      "110288/110288 [==============================] - 7s 66us/step - loss: 1.4966 - acc: 0.6124 - val_loss: nan - val_acc: 0.6167\n",
      "Epoch 10/10\n",
      "110288/110288 [==============================] - 7s 67us/step - loss: 1.4562 - acc: 0.6193 - val_loss: nan - val_acc: 0.6208\n",
      "new jersey est jamais chaud en en et il est est en en <PAD> <PAD> <PAD> <PAD> <PAD> <PAD> <PAD> <PAD>\n"
     ]
    }
   ],
   "source": [
    "from keras.models import Sequential\n",
    "from keras.layers import LSTM\n",
    "def simple_model(input_shape, output_sequence_length, english_vocab_size, french_vocab_size):\n",
    "    \"\"\"\n",
    "    Build and train a basic RNN on x and y\n",
    "    :param input_shape: Tuple of input shape\n",
    "    :param output_sequence_length: Length of output sequence\n",
    "    :param english_vocab_size: Number of unique English words in the dataset\n",
    "    :param french_vocab_size: Number of unique French words in the dataset\n",
    "    :return: Keras model built, but not trained\n",
    "    \"\"\"\n",
    "    # TODO: Build the layers\n",
    "    learning_rate = 1e-3\n",
    "    model = Sequential()\n",
    "    model.add(LSTM(64, input_shape = input_shape[1:], return_sequences = True))\n",
    "    model.add(TimeDistributed(Dense(french_vocab_size, activation = 'softmax')))\n",
    "    \n",
    "    model.compile(loss=sparse_categorical_crossentropy,\n",
    "                  optimizer=Adam(learning_rate),\n",
    "                  metrics=['accuracy'])\n",
    "    return model\n",
    "tests.test_simple_model(simple_model)\n",
    "\n",
    "# Reshaping the input to work with a basic RNN\n",
    "tmp_x = pad(preproc_english_sentences, max_french_sequence_length)\n",
    "tmp_x = tmp_x.reshape((-1, preproc_french_sentences.shape[-2], 1))\n",
    "\n",
    "# Train the neural network\n",
    "basic_rnn_model = simple_model(\n",
    "    tmp_x.shape,\n",
    "    max_french_sequence_length,\n",
    "    english_vocab_size,\n",
    "    french_vocab_size)\n",
    "basic_rnn_model.fit(tmp_x, preproc_french_sentences, batch_size=1024, epochs=10, validation_split=0.2)\n",
    "\n",
    "# Print prediction(s)\n",
    "print(logits_to_text(basic_rnn_model.predict(tmp_x[:1])[0], french_tokenizer))"
   ]
  },
  {
   "cell_type": "markdown",
   "metadata": {},
   "source": [
    "### Model 2: Embedding (IMPLEMENTATION)\n",
    "![RNN](images/embedding.png)\n",
    "You've turned the words into ids, but there's a better representation of a word.  This is called word embeddings.  An embedding is a vector representation of the word that is close to similar words in n-dimensional space, where the n represents the size of the embedding vectors.\n",
    "\n",
    "In this model, you'll create a RNN model using embedding."
   ]
  },
  {
   "cell_type": "code",
   "execution_count": 12,
   "metadata": {},
   "outputs": [
    {
     "name": "stdout",
     "output_type": "stream",
     "text": [
      "(137861, 21)\n",
      "Train on 110288 samples, validate on 27573 samples\n",
      "Epoch 1/10\n",
      "110288/110288 [==============================] - 10s 91us/step - loss: 3.4773 - acc: 0.4030 - val_loss: nan - val_acc: 0.4259\n",
      "Epoch 2/10\n",
      "110288/110288 [==============================] - 10s 89us/step - loss: 2.4865 - acc: 0.4800 - val_loss: nan - val_acc: 0.5034\n",
      "Epoch 3/10\n",
      "110288/110288 [==============================] - 10s 89us/step - loss: 2.0102 - acc: 0.5293 - val_loss: nan - val_acc: 0.5627\n",
      "Epoch 4/10\n",
      "110288/110288 [==============================] - 10s 89us/step - loss: 1.6730 - acc: 0.5912 - val_loss: nan - val_acc: 0.6209\n",
      "Epoch 5/10\n",
      "110288/110288 [==============================] - 10s 89us/step - loss: 1.4293 - acc: 0.6381 - val_loss: nan - val_acc: 0.6578\n",
      "Epoch 6/10\n",
      "110288/110288 [==============================] - 10s 89us/step - loss: 1.2115 - acc: 0.6897 - val_loss: nan - val_acc: 0.7151\n",
      "Epoch 7/10\n",
      "110288/110288 [==============================] - 10s 89us/step - loss: 1.0135 - acc: 0.7364 - val_loss: nan - val_acc: 0.7581\n",
      "Epoch 8/10\n",
      "110288/110288 [==============================] - 10s 89us/step - loss: 0.8553 - acc: 0.7741 - val_loss: nan - val_acc: 0.7897\n",
      "Epoch 9/10\n",
      "110288/110288 [==============================] - 10s 89us/step - loss: 0.7287 - acc: 0.8014 - val_loss: nan - val_acc: 0.8134\n",
      "Epoch 10/10\n",
      "110288/110288 [==============================] - 10s 89us/step - loss: 0.6345 - acc: 0.8213 - val_loss: nan - val_acc: 0.8317\n",
      "new jersey est parfois calme en l' et il automne il en en <PAD> <PAD> <PAD> <PAD> <PAD> <PAD> <PAD> <PAD>\n"
     ]
    }
   ],
   "source": [
    "\n",
    "def embed_model(input_shape, output_sequence_length, english_vocab_size, french_vocab_size):\n",
    "    \"\"\"\n",
    "    Build and train a RNN model using word embedding on x and y\n",
    "    :param input_shape: Tuple of input shape\n",
    "    :param output_sequence_length: Length of output sequence\n",
    "    :param english_vocab_size: Number of unique English words in the dataset\n",
    "    :param french_vocab_size: Number of unique French words in the dataset\n",
    "    :return: Keras model built, but not trained\n",
    "    \"\"\"\n",
    "    # TODO: Implement\n",
    "    learning_rate = 1e-3\n",
    "    \n",
    "    model = Sequential()\n",
    "    model.add(Embedding(french_vocab_size, 64, input_length=input_shape[1]))\n",
    "    model.add(LSTM(128, return_sequences=True))\n",
    "    model.add(TimeDistributed(Dense(french_vocab_size, activation=\"softmax\")))\n",
    "    model.compile(loss=sparse_categorical_crossentropy,\n",
    "                  optimizer=Adam(learning_rate),\n",
    "                  metrics=['accuracy'])\n",
    "    \n",
    "    return model\n",
    "    \n",
    "   \n",
    "tests.test_embed_model(embed_model)\n",
    "\n",
    "\n",
    "# TODO: Reshape the input\n",
    "tmp_x = pad(preproc_english_sentences, max_french_sequence_length)\n",
    "tmp_x = tmp_x.reshape((-1, preproc_french_sentences.shape[-2]))\n",
    "\n",
    "print (tmp_x.shape)\n",
    "\n",
    "# TODO: Train the neural network\n",
    "embedded_rnn_model = embed_model(\n",
    "    tmp_x.shape,\n",
    "    max_french_sequence_length,\n",
    "    english_vocab_size,\n",
    "    french_vocab_size)\n",
    "embedded_rnn_model.fit(tmp_x, preproc_french_sentences, batch_size=1024, epochs=10, validation_split=0.2)\n",
    "\n",
    "# TODO: Print prediction(s)\n",
    "print(logits_to_text(embedded_rnn_model.predict(tmp_x[:1])[0], french_tokenizer))\n",
    "\n",
    "\n"
   ]
  },
  {
   "cell_type": "markdown",
   "metadata": {},
   "source": [
    "### Model 3: Bidirectional RNNs (IMPLEMENTATION)\n",
    "![RNN](images/bidirectional.png)\n",
    "One restriction of a RNN is that it can't see the future input, only the past.  This is where bidirectional recurrent neural networks come in.  They are able to see the future data."
   ]
  },
  {
   "cell_type": "code",
   "execution_count": 13,
   "metadata": {},
   "outputs": [
    {
     "name": "stdout",
     "output_type": "stream",
     "text": [
      "Train on 110288 samples, validate on 27573 samples\n",
      "Epoch 1/20\n",
      "110288/110288 [==============================] - 15s 135us/step - loss: 2.7165 - acc: 0.4830 - val_loss: 1.8528 - val_acc: 0.5609\n",
      "Epoch 2/20\n",
      "110288/110288 [==============================] - 14s 129us/step - loss: 1.7043 - acc: 0.5779 - val_loss: 1.5251 - val_acc: 0.5996\n",
      "Epoch 3/20\n",
      "110288/110288 [==============================] - 14s 127us/step - loss: 1.4976 - acc: 0.6063 - val_loss: 1.4112 - val_acc: 0.6111\n",
      "Epoch 4/20\n",
      "110288/110288 [==============================] - 14s 128us/step - loss: 1.3906 - acc: 0.6214 - val_loss: 1.3478 - val_acc: 0.6234\n",
      "Epoch 5/20\n",
      "110288/110288 [==============================] - 14s 129us/step - loss: 1.3177 - acc: 0.6329 - val_loss: 1.3154 - val_acc: 0.6274\n",
      "Epoch 6/20\n",
      "110288/110288 [==============================] - 14s 129us/step - loss: 1.2668 - acc: 0.6424 - val_loss: 1.2974 - val_acc: 0.6271\n",
      "Epoch 7/20\n",
      "110288/110288 [==============================] - 14s 129us/step - loss: 1.2258 - acc: 0.6503 - val_loss: 1.2960 - val_acc: 0.6233\n",
      "Epoch 8/20\n",
      "110288/110288 [==============================] - 14s 129us/step - loss: 1.1925 - acc: 0.6569 - val_loss: 1.2763 - val_acc: 0.6264\n",
      "Epoch 9/20\n",
      "110288/110288 [==============================] - 14s 129us/step - loss: 1.1635 - acc: 0.6630 - val_loss: 1.2856 - val_acc: 0.6210\n",
      "Epoch 10/20\n",
      "110288/110288 [==============================] - 14s 129us/step - loss: 1.1370 - acc: 0.6683 - val_loss: 1.2874 - val_acc: 0.6202\n",
      "Epoch 11/20\n",
      "110288/110288 [==============================] - 14s 128us/step - loss: 1.1133 - acc: 0.6731 - val_loss: 1.2944 - val_acc: 0.6201\n",
      "Epoch 12/20\n",
      "110288/110288 [==============================] - 14s 129us/step - loss: 1.0925 - acc: 0.6763 - val_loss: 1.3011 - val_acc: 0.6187\n",
      "Epoch 13/20\n",
      "110288/110288 [==============================] - 14s 128us/step - loss: 1.0728 - acc: 0.6791 - val_loss: 1.3202 - val_acc: 0.6181\n",
      "Epoch 14/20\n",
      "110288/110288 [==============================] - 14s 129us/step - loss: 1.0557 - acc: 0.6816 - val_loss: 1.3486 - val_acc: 0.6164\n",
      "Epoch 15/20\n",
      "110288/110288 [==============================] - 14s 129us/step - loss: 1.0401 - acc: 0.6838 - val_loss: 1.3526 - val_acc: 0.6141\n",
      "Epoch 16/20\n",
      "110288/110288 [==============================] - 14s 128us/step - loss: 1.0254 - acc: 0.6862 - val_loss: 1.3486 - val_acc: 0.6168\n",
      "Epoch 17/20\n",
      "110288/110288 [==============================] - 14s 129us/step - loss: 1.0121 - acc: 0.6884 - val_loss: 1.4086 - val_acc: 0.6110\n",
      "Epoch 18/20\n",
      "110288/110288 [==============================] - 15s 132us/step - loss: 1.0005 - acc: 0.6899 - val_loss: 1.4128 - val_acc: 0.6127\n",
      "Epoch 19/20\n",
      "110288/110288 [==============================] - 14s 128us/step - loss: 0.9887 - acc: 0.6916 - val_loss: 1.4104 - val_acc: 0.6115\n",
      "Epoch 20/20\n",
      "110288/110288 [==============================] - 15s 134us/step - loss: 0.9781 - acc: 0.6941 - val_loss: 1.4293 - val_acc: 0.6107\n",
      "new jersey est parfois froid en l' mais il est agréable en en <PAD> <PAD> <PAD> <PAD> <PAD> <PAD> <PAD> <PAD>\n"
     ]
    }
   ],
   "source": [
    "def bd_model(input_shape, output_sequence_length, english_vocab_size, french_vocab_size):\n",
    "    \"\"\"\n",
    "    Build and train a bidirectional RNN model on x and y\n",
    "    :param input_shape: Tuple of input shape\n",
    "    :param output_sequence_length: Length of output sequence\n",
    "    :param english_vocab_size: Number of unique English words in the dataset\n",
    "    :param french_vocab_size: Number of unique French words in the dataset\n",
    "    :return: Keras model built, but not trained\n",
    "    \"\"\"\n",
    "    # TODO: Implement\n",
    "    learning_rate = 0.001\n",
    "    model = Sequential()\n",
    "    model.add(Bidirectional(LSTM(128, return_sequences = True, dropout = 0.1), \n",
    "                           input_shape = input_shape[1:]))\n",
    "    model.add(TimeDistributed(Dense(french_vocab_size, activation = 'softmax')))\n",
    "    \n",
    "    model.compile(loss=sparse_categorical_crossentropy,\n",
    "                  optimizer=Adam(learning_rate),\n",
    "                  metrics=['accuracy'])\n",
    "    return model\n",
    "        \n",
    "tests.test_bd_model(bd_model)\n",
    "\n",
    "\n",
    "# TODO: Train and Print prediction(s)\n",
    "tmp_x = pad(preproc_english_sentences, preproc_french_sentences.shape[1])\n",
    "tmp_x = tmp_x.reshape((-1, preproc_french_sentences.shape[-2], 1))\n",
    "bidirectional_rnn_model = bd_model(\n",
    "    tmp_x.shape,\n",
    "    preproc_french_sentences.shape[1],\n",
    "    len(english_tokenizer.word_index)+1,\n",
    "    len(french_tokenizer.word_index)+1)\n",
    "bidirectional_rnn_model.fit(tmp_x, preproc_french_sentences, batch_size=1024, epochs=20, validation_split=0.2)\n",
    "# Print prediction(s)\n",
    "print(logits_to_text(bidirectional_rnn_model.predict(tmp_x[:1])[0], french_tokenizer))"
   ]
  },
  {
   "cell_type": "markdown",
   "metadata": {},
   "source": [
    "### Model 4: Encoder-Decoder (OPTIONAL)\n",
    "Time to look at encoder-decoder models.  This model is made up of an encoder and decoder. The encoder creates a matrix representation of the sentence.  The decoder takes this matrix as input and predicts the translation as output.\n",
    "\n",
    "Create an encoder-decoder model in the cell below."
   ]
  },
  {
   "cell_type": "code",
   "execution_count": 14,
   "metadata": {},
   "outputs": [
    {
     "name": "stdout",
     "output_type": "stream",
     "text": [
      "Train on 110288 samples, validate on 27573 samples\n",
      "Epoch 1/20\n",
      "110288/110288 [==============================] - 16s 143us/step - loss: 2.8945 - acc: 0.4581 - val_loss: 2.0500 - val_acc: 0.5290\n",
      "Epoch 2/20\n",
      "110288/110288 [==============================] - 15s 135us/step - loss: 1.7683 - acc: 0.5533 - val_loss: 1.5774 - val_acc: 0.5761\n",
      "Epoch 3/20\n",
      "110288/110288 [==============================] - 15s 134us/step - loss: 1.4813 - acc: 0.5944 - val_loss: 1.3887 - val_acc: 0.6146\n",
      "Epoch 4/20\n",
      "110288/110288 [==============================] - 15s 135us/step - loss: 1.3596 - acc: 0.6188 - val_loss: 1.3180 - val_acc: 0.6279\n",
      "Epoch 5/20\n",
      "110288/110288 [==============================] - 15s 134us/step - loss: 1.2920 - acc: 0.6310 - val_loss: 1.2647 - val_acc: 0.6361\n",
      "Epoch 6/20\n",
      "110288/110288 [==============================] - 15s 135us/step - loss: 1.2551 - acc: 0.6359 - val_loss: 1.2544 - val_acc: 0.6344\n",
      "Epoch 7/20\n",
      "110288/110288 [==============================] - 15s 135us/step - loss: 1.2363 - acc: 0.6384 - val_loss: 1.2178 - val_acc: 0.6415\n",
      "Epoch 8/20\n",
      "110288/110288 [==============================] - 15s 134us/step - loss: 1.2320 - acc: 0.6379 - val_loss: 1.2037 - val_acc: 0.6441\n",
      "Epoch 9/20\n",
      "110288/110288 [==============================] - 15s 135us/step - loss: 1.2031 - acc: 0.6433 - val_loss: 1.1906 - val_acc: 0.6475\n",
      "Epoch 10/20\n",
      "110288/110288 [==============================] - 15s 134us/step - loss: 1.1910 - acc: 0.6438 - val_loss: 1.1706 - val_acc: 0.6477\n",
      "Epoch 11/20\n",
      "110288/110288 [==============================] - 15s 135us/step - loss: 1.1590 - acc: 0.6491 - val_loss: 1.1476 - val_acc: 0.6485\n",
      "Epoch 12/20\n",
      "110288/110288 [==============================] - 15s 134us/step - loss: 1.1446 - acc: 0.6516 - val_loss: 1.1243 - val_acc: 0.6541\n",
      "Epoch 13/20\n",
      "110288/110288 [==============================] - 15s 134us/step - loss: 1.1222 - acc: 0.6555 - val_loss: 1.1575 - val_acc: 0.6482\n",
      "Epoch 14/20\n",
      "110288/110288 [==============================] - 15s 135us/step - loss: 1.1105 - acc: 0.6563 - val_loss: 1.0826 - val_acc: 0.6617\n",
      "Epoch 15/20\n",
      "110288/110288 [==============================] - 15s 135us/step - loss: 1.0859 - acc: 0.6599 - val_loss: 1.1125 - val_acc: 0.6610\n",
      "Epoch 16/20\n",
      "110288/110288 [==============================] - 15s 135us/step - loss: 1.0675 - acc: 0.6635 - val_loss: 1.0512 - val_acc: 0.6657\n",
      "Epoch 17/20\n",
      "110288/110288 [==============================] - 15s 135us/step - loss: 1.0476 - acc: 0.6670 - val_loss: 1.0459 - val_acc: 0.6688\n",
      "Epoch 18/20\n",
      "110288/110288 [==============================] - 15s 135us/step - loss: 1.0272 - acc: 0.6711 - val_loss: 1.0151 - val_acc: 0.6730\n",
      "Epoch 19/20\n",
      "110288/110288 [==============================] - 15s 134us/step - loss: 1.0202 - acc: 0.6729 - val_loss: 1.0326 - val_acc: 0.6719\n",
      "Epoch 20/20\n",
      "110288/110288 [==============================] - 15s 134us/step - loss: 1.0024 - acc: 0.6775 - val_loss: 1.0133 - val_acc: 0.6734\n",
      "new jersey est parfois agréable en mois de il est il en novembre <PAD> <PAD> <PAD> <PAD> <PAD> <PAD> <PAD> <PAD>\n"
     ]
    }
   ],
   "source": [
    "def encdec_model(input_shape, output_sequence_length, english_vocab_size, french_vocab_size):\n",
    "    \"\"\"\n",
    "    Build and train an encoder-decoder model on x and y\n",
    "    :param input_shape: Tuple of input shape\n",
    "    :param output_sequence_length: Length of output sequence\n",
    "    :param english_vocab_size: Number of unique English words in the dataset\n",
    "    :param french_vocab_size: Number of unique French words in the dataset\n",
    "    :return: Keras model built, but not trained\n",
    "    \"\"\"\n",
    "    # OPTIONAL: Implement\n",
    "    learning_rate = 1e-3\n",
    "    model = Sequential()\n",
    "    model.add(LSTM(128, input_shape = input_shape[1:], return_sequences = False))\n",
    "    model.add(RepeatVector(output_sequence_length))\n",
    "    model.add(LSTM(128, activation=\"relu\",return_sequences = True))\n",
    "    model.add(TimeDistributed(Dense(french_vocab_size, activation = 'softmax')))\n",
    "    \n",
    "    model.compile(loss = sparse_categorical_crossentropy, \n",
    "                 optimizer = Adam(learning_rate), \n",
    "                 metrics = ['accuracy'])\n",
    "    \n",
    "    return model\n",
    "    \n",
    "\n",
    "tests.test_encdec_model(encdec_model)\n",
    "\n",
    "\n",
    "# OPTIONAL: Train and Print prediction(s)\n",
    "# TODO: Train and Print prediction(s)\n",
    "# TODO: Reshape the input\n",
    "tmp_x = pad(preproc_english_sentences, preproc_french_sentences.shape[1])\n",
    "tmp_x = tmp_x.reshape((-1, preproc_french_sentences.shape[-2], 1))\n",
    "encoder_decoder_rnn_model = encdec_model(\n",
    "    tmp_x.shape,\n",
    "    preproc_french_sentences.shape[1],\n",
    "    len(english_tokenizer.word_index)+1,\n",
    "    len(french_tokenizer.word_index)+1)\n",
    "encoder_decoder_rnn_model.fit(tmp_x, preproc_french_sentences, batch_size=1024, epochs=20, validation_split=0.2)\n",
    "# Print prediction(s)\n",
    "print(logits_to_text(encoder_decoder_rnn_model.predict(tmp_x[:1])[0], french_tokenizer))"
   ]
  },
  {
   "cell_type": "markdown",
   "metadata": {},
   "source": [
    "### Model 5: Custom (IMPLEMENTATION)\n",
    "Use everything you learned from the previous models to create a model that incorporates embedding and a bidirectional rnn into one model."
   ]
  },
  {
   "cell_type": "code",
   "execution_count": 15,
   "metadata": {},
   "outputs": [
    {
     "name": "stdout",
     "output_type": "stream",
     "text": [
      " Final model built\n"
     ]
    }
   ],
   "source": [
    "def model_final(input_shape, output_sequence_length, english_vocab_size, french_vocab_size):\n",
    "    \"\"\"\n",
    "    Build and train a model that incorporates embedding, encoder-decoder, and bidirectional RNN on x and y\n",
    "    :param input_shape: Tuple of input shape\n",
    "    :param output_sequence_length: Length of output sequence\n",
    "    :param english_vocab_size: Number of unique English words in the dataset\n",
    "    :param french_vocab_size: Number of unique French words in the dataset\n",
    "    :return: Keras model built, but not trained\n",
    "    \"\"\"\n",
    "    # TODO: Implement\n",
    "    learning_rate = 0.005\n",
    "    model = Sequential()\n",
    "    model.add(Embedding(input_dim=english_vocab_size,output_dim=128,input_length=input_shape[1]))\n",
    "    model.add(Bidirectional(LSTM(256, return_sequences = False)))\n",
    "    model.add(RepeatVector(output_sequence_length))\n",
    "    model.add(Bidirectional(LSTM(256, return_sequences = True)))\n",
    "    model.add(TimeDistributed(Dense(french_vocab_size, activation = 'softmax')))\n",
    "    \n",
    "    model.compile(loss = sparse_categorical_crossentropy, \n",
    "                 optimizer = Adam(learning_rate), \n",
    "                 metrics = ['accuracy'])\n",
    "    return model\n",
    "\n",
    "tests.test_model_final(model_final)\n",
    "\n",
    "print (' Final model built')"
   ]
  },
  {
   "cell_type": "markdown",
   "metadata": {},
   "source": [
    "## Prediction (IMPLEMENTATION)"
   ]
  },
  {
   "cell_type": "code",
   "execution_count": 16,
   "metadata": {},
   "outputs": [
    {
     "name": "stdout",
     "output_type": "stream",
     "text": [
      "Train on 110288 samples, validate on 27573 samples\n",
      "Epoch 1/20\n",
      "110288/110288 [==============================] - 50s 458us/step - loss: 2.1510 - acc: 0.5175 - val_loss: 1.3725 - val_acc: 0.6288\n",
      "Epoch 2/20\n",
      "110288/110288 [==============================] - 49s 441us/step - loss: 1.1182 - acc: 0.6871 - val_loss: 0.9103 - val_acc: 0.7359\n",
      "Epoch 3/20\n",
      "110288/110288 [==============================] - 49s 441us/step - loss: 0.7466 - acc: 0.7785 - val_loss: 0.5900 - val_acc: 0.8211\n",
      "Epoch 4/20\n",
      "110288/110288 [==============================] - 49s 442us/step - loss: 0.4428 - acc: 0.8686 - val_loss: 0.3262 - val_acc: 0.9063\n",
      "Epoch 5/20\n",
      "110288/110288 [==============================] - 49s 442us/step - loss: 0.2443 - acc: 0.9307 - val_loss: 0.1954 - val_acc: 0.9450\n",
      "Epoch 6/20\n",
      "110288/110288 [==============================] - 49s 443us/step - loss: 0.2043 - acc: 0.9402 - val_loss: 0.1472 - val_acc: 0.9580\n",
      "Epoch 7/20\n",
      "110288/110288 [==============================] - 49s 444us/step - loss: 0.1253 - acc: 0.9642 - val_loss: 0.1299 - val_acc: 0.9632\n",
      "Epoch 8/20\n",
      "110288/110288 [==============================] - 49s 444us/step - loss: 0.0969 - acc: 0.9721 - val_loss: 0.1048 - val_acc: 0.9697\n",
      "Epoch 9/20\n",
      "110288/110288 [==============================] - 49s 446us/step - loss: 0.0824 - acc: 0.9762 - val_loss: 0.0976 - val_acc: 0.9712\n",
      "Epoch 10/20\n",
      "110288/110288 [==============================] - 49s 446us/step - loss: 0.0690 - acc: 0.9800 - val_loss: 0.0827 - val_acc: 0.9757\n",
      "Epoch 11/20\n",
      "110288/110288 [==============================] - 49s 445us/step - loss: 0.0972 - acc: 0.9707 - val_loss: 0.0895 - val_acc: 0.9746\n",
      "Epoch 12/20\n",
      "110288/110288 [==============================] - 49s 447us/step - loss: 0.0567 - acc: 0.9837 - val_loss: 0.0728 - val_acc: 0.9791\n",
      "Epoch 13/20\n",
      "110288/110288 [==============================] - 49s 446us/step - loss: 0.0469 - acc: 0.9865 - val_loss: 0.0704 - val_acc: 0.9805\n",
      "Epoch 14/20\n",
      "110288/110288 [==============================] - 49s 445us/step - loss: 0.0407 - acc: 0.9883 - val_loss: 0.0756 - val_acc: 0.9789\n",
      "Epoch 15/20\n",
      "110288/110288 [==============================] - 49s 443us/step - loss: 0.0412 - acc: 0.9879 - val_loss: 0.0741 - val_acc: 0.9791\n",
      "Epoch 16/20\n",
      "110288/110288 [==============================] - 49s 444us/step - loss: 0.0362 - acc: 0.9895 - val_loss: 0.0638 - val_acc: 0.9821\n",
      "Epoch 17/20\n",
      "110288/110288 [==============================] - 49s 444us/step - loss: 0.0324 - acc: 0.9907 - val_loss: 0.0660 - val_acc: 0.9823\n",
      "Epoch 18/20\n",
      "110288/110288 [==============================] - 49s 444us/step - loss: 0.0322 - acc: 0.9907 - val_loss: 0.0622 - val_acc: 0.9830\n",
      "Epoch 19/20\n",
      "110288/110288 [==============================] - 49s 446us/step - loss: 0.0312 - acc: 0.9911 - val_loss: 0.0717 - val_acc: 0.9810\n",
      "Epoch 20/20\n",
      "110288/110288 [==============================] - 49s 446us/step - loss: 0.0326 - acc: 0.9906 - val_loss: 0.0625 - val_acc: 0.9835\n",
      "Sample 1:\n",
      "il a vu un vieux camion jaune <PAD> <PAD> <PAD> <PAD> <PAD> <PAD> <PAD> <PAD> <PAD> <PAD> <PAD> <PAD> <PAD> <PAD>\n",
      "Il a vu un vieux camion jaune\n",
      "Sample 2:\n",
      "new jersey est parfois calme pendant l' automne et il est neigeux en avril <PAD> <PAD> <PAD> <PAD> <PAD> <PAD> <PAD>\n",
      "new jersey est parfois calme pendant l' automne et il est neigeux en avril <PAD> <PAD> <PAD> <PAD> <PAD> <PAD> <PAD>\n"
     ]
    }
   ],
   "source": [
    "def final_predictions(x, y, x_tk, y_tk):\n",
    "    \"\"\"\n",
    "    Gets predictions using the final model\n",
    "    :param x: Preprocessed English data\n",
    "    :param y: Preprocessed French data\n",
    "    :param x_tk: English tokenizer\n",
    "    :param y_tk: French tokenizer\n",
    "    \"\"\"\n",
    "    # TODO: Train neural network using model_final\n",
    "    tmp_X = pad(preproc_english_sentences)\n",
    "    model = model_final(tmp_X.shape,\n",
    "                        preproc_french_sentences.shape[1],\n",
    "                        len(english_tokenizer.word_index)+1,\n",
    "                        len(french_tokenizer.word_index)+1)\n",
    "    \n",
    "    model.fit(tmp_X, preproc_french_sentences, batch_size = 1024, epochs = 20, validation_split = 0.2)\n",
    "\n",
    "    \n",
    "    ## DON'T EDIT ANYTHING BELOW THIS LINE\n",
    "    y_id_to_word = {value: key for key, value in y_tk.word_index.items()}\n",
    "    y_id_to_word[0] = '<PAD>'\n",
    "\n",
    "    sentence = 'he saw a old yellow truck'\n",
    "    sentence = [x_tk.word_index[word] for word in sentence.split()]\n",
    "    sentence = pad_sequences([sentence], maxlen=x.shape[-1], padding='post')\n",
    "    sentences = np.array([sentence[0], x[0]])\n",
    "    predictions = model.predict(sentences, len(sentences))\n",
    "\n",
    "    print('Sample 1:')\n",
    "    print(' '.join([y_id_to_word[np.argmax(x)] for x in predictions[0]]))\n",
    "    print('Il a vu un vieux camion jaune')\n",
    "    print('Sample 2:')\n",
    "    print(' '.join([y_id_to_word[np.argmax(x)] for x in predictions[1]]))\n",
    "    print(' '.join([y_id_to_word[np.max(x)] for x in y[0]]))\n",
    "\n",
    "\n",
    "final_predictions(preproc_english_sentences, preproc_french_sentences, english_tokenizer, french_tokenizer)"
   ]
  },
  {
   "cell_type": "markdown",
   "metadata": {},
   "source": [
    "## Submission\n",
    "When you're ready to submit, complete the following steps:\n",
    "1. Review the [rubric](https://review.udacity.com/#!/rubrics/1004/view) to ensure your submission meets all requirements to pass\n",
    "2. Generate an HTML version of this notebook\n",
    "\n",
    "  - Run the next cell to attempt automatic generation (this is the recommended method in Workspaces)\n",
    "  - Navigate to **FILE -> Download as -> HTML (.html)**\n",
    "  - Manually generate a copy using `nbconvert` from your shell terminal\n",
    "```\n",
    "$ pip install nbconvert\n",
    "$ python -m nbconvert machine_translation.ipynb\n",
    "```\n",
    "  \n",
    "3. Submit the project\n",
    "\n",
    "  - If you are in a Workspace, simply click the \"Submit Project\" button (bottom towards the right)\n",
    "  \n",
    "  - Otherwise, add the following files into a zip archive and submit them \n",
    "  - `helper.py`\n",
    "  - `machine_translation.ipynb`\n",
    "  - `machine_translation.html`\n",
    "    - You can export the notebook by navigating to **File -> Download as -> HTML (.html)**."
   ]
  },
  {
   "cell_type": "markdown",
   "metadata": {},
   "source": [
    "### Generate the html\n",
    "\n",
    "**Save your notebook before running the next cell to generate the HTML output.** Then submit your project."
   ]
  },
  {
   "cell_type": "code",
   "execution_count": 17,
   "metadata": {},
   "outputs": [
    {
     "data": {
      "text/plain": [
       "['[NbConvertApp] Converting notebook machine_translation.ipynb to html',\n",
       " '[NbConvertApp] Writing 369527 bytes to machine_translation.html',\n",
       " '[NbConvertApp] Converting notebook machine_translation-zh.ipynb to html',\n",
       " '[NbConvertApp] Writing 328013 bytes to machine_translation-zh.html']"
      ]
     },
     "execution_count": 17,
     "metadata": {},
     "output_type": "execute_result"
    }
   ],
   "source": [
    "# Save before you run this cell!\n",
    "!!jupyter nbconvert *.ipynb"
   ]
  },
  {
   "cell_type": "markdown",
   "metadata": {},
   "source": [
    "## Optional Enhancements\n",
    "\n",
    "This project focuses on learning various network architectures for machine translation, but we don't evaluate the models according to best practices by splitting the data into separate test & training sets -- so the model accuracy is overstated. Use the [`sklearn.model_selection.train_test_split()`](http://scikit-learn.org/stable/modules/generated/sklearn.model_selection.train_test_split.html) function to create separate training & test datasets, then retrain each of the models using only the training set and evaluate the prediction accuracy using the hold out test set. Does the \"best\" model change?"
   ]
  }
 ],
 "metadata": {
  "kernelspec": {
   "display_name": "Python 3",
   "language": "python",
   "name": "python3"
  },
  "language_info": {
   "codemirror_mode": {
    "name": "ipython",
    "version": 3
   },
   "file_extension": ".py",
   "mimetype": "text/x-python",
   "name": "python",
   "nbconvert_exporter": "python",
   "pygments_lexer": "ipython3",
   "version": "3.6.3"
  }
 },
 "nbformat": 4,
 "nbformat_minor": 1
}
